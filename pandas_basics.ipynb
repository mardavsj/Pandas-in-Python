{
 "cells": [
  {
   "cell_type": "markdown",
   "metadata": {},
   "source": [
    "### Load in Pandas"
   ]
  },
  {
   "cell_type": "code",
   "execution_count": 47,
   "metadata": {},
   "outputs": [],
   "source": [
    "import pandas as pd"
   ]
  },
  {
   "cell_type": "markdown",
   "metadata": {},
   "source": [
    "### Series Data Structure "
   ]
  },
  {
   "cell_type": "code",
   "execution_count": 48,
   "metadata": {},
   "outputs": [
    {
     "name": "stdout",
     "output_type": "stream",
     "text": [
      "0    2\n",
      "1    4\n",
      "2    6\n",
      "3    8\n",
      "dtype: int64\n",
      "<class 'pandas.core.series.Series'>\n"
     ]
    }
   ],
   "source": [
    "m = [2,4,6,8]\n",
    "\n",
    "ser = pd.Series(m)\n",
    "print(ser)\n",
    "\n",
    "print(type(ser))"
   ]
  },
  {
   "cell_type": "markdown",
   "metadata": {},
   "source": [
    "#### Custom Index "
   ]
  },
  {
   "cell_type": "code",
   "execution_count": 49,
   "metadata": {},
   "outputs": [
    {
     "name": "stdout",
     "output_type": "stream",
     "text": [
      "a    2.0\n",
      "b    4.0\n",
      "c    6.0\n",
      "d    8.0\n",
      "dtype: float64\n"
     ]
    }
   ],
   "source": [
    "m = [2,4,6,8]\n",
    "\n",
    "ser = pd.Series(m, index=['a','b','c','d'], dtype=\"float\")\n",
    "print(ser)"
   ]
  },
  {
   "cell_type": "code",
   "execution_count": 50,
   "metadata": {},
   "outputs": [
    {
     "name": "stdout",
     "output_type": "stream",
     "text": [
      "language          [Python, R, Swift]\n",
      "ranking                    [1, 2, 3]\n",
      "no_of_initials             [6, 1, 5]\n",
      "dtype: object\n"
     ]
    }
   ],
   "source": [
    "dic_data = {\"language\":[\"Python\", \"R\", \"Swift\"], \"ranking\":[1,2,3], \"no_of_initials\":[6,1,5]}\n",
    "\n",
    "ser = pd.Series(dic_data)\n",
    "print(ser)"
   ]
  },
  {
   "cell_type": "markdown",
   "metadata": {},
   "source": [
    "#### Create a Series "
   ]
  },
  {
   "cell_type": "code",
   "execution_count": 51,
   "metadata": {},
   "outputs": [
    {
     "name": "stdout",
     "output_type": "stream",
     "text": [
      "1    10\n",
      "2    11\n",
      "3    12\n",
      "4    13\n",
      "5    14\n",
      "dtype: int64\n",
      "<class 'pandas.core.series.Series'>\n"
     ]
    }
   ],
   "source": [
    "ser = pd.Series([10,11,12,13,14], index=[1,2,3,4,5])\n",
    "\n",
    "print(ser)\n",
    "print(type(ser))"
   ]
  },
  {
   "cell_type": "markdown",
   "metadata": {},
   "source": [
    "#### Add two series "
   ]
  },
  {
   "cell_type": "code",
   "execution_count": 52,
   "metadata": {},
   "outputs": [
    {
     "name": "stdout",
     "output_type": "stream",
     "text": [
      "0    16.0\n",
      "1    16.0\n",
      "2    16.0\n",
      "3    16.0\n",
      "4    16.0\n",
      "5     NaN\n",
      "6     NaN\n",
      "7     NaN\n",
      "8     NaN\n",
      "dtype: float64\n"
     ]
    }
   ],
   "source": [
    "ser1 = pd.Series(13, index=[0,1,2,3,4,5,6,7,8])\n",
    "ser2 = pd.Series(3, index=[0,1,2,3,4])\n",
    "\n",
    "ser3 = ser1+ser2\n",
    "print(ser3)   # NaN - Not a Number"
   ]
  },
  {
   "cell_type": "markdown",
   "metadata": {},
   "source": [
    "### DataFrame"
   ]
  },
  {
   "cell_type": "code",
   "execution_count": 53,
   "metadata": {},
   "outputs": [
    {
     "name": "stdout",
     "output_type": "stream",
     "text": [
      "   0\n",
      "0  1\n",
      "1  3\n",
      "2  5\n",
      "3  7\n",
      "4  9\n",
      "<class 'pandas.core.frame.DataFrame'>\n"
     ]
    }
   ],
   "source": [
    "m = [1,3,5,7,9]\n",
    "\n",
    "df = pd.DataFrame(m)\n",
    "print(df)\n",
    "\n",
    "print(type(df))"
   ]
  },
  {
   "cell_type": "code",
   "execution_count": 54,
   "metadata": {},
   "outputs": [
    {
     "name": "stdout",
     "output_type": "stream",
     "text": [
      "   a  b   c\n",
      "0  1  5   9\n",
      "1  2  6  10\n",
      "2  3  7  11\n",
      "3  4  8  12\n",
      "\n",
      "<class 'pandas.core.frame.DataFrame'>\n",
      "\n",
      "6\n"
     ]
    }
   ],
   "source": [
    "m = {\"a\":[1,2,3,4], \"b\":[5,6,7,8],\"c\":[9,10,11,12]}\n",
    "\n",
    "df = pd.DataFrame(m)\n",
    "print(df)\n",
    "\n",
    "print()\n",
    "\n",
    "print(type(df))\n",
    "\n",
    "print()\n",
    "\n",
    "print(df[\"b\"][1]) # Get values "
   ]
  },
  {
   "cell_type": "markdown",
   "metadata": {},
   "source": [
    "### Arithmetic Operations "
   ]
  },
  {
   "cell_type": "code",
   "execution_count": 55,
   "metadata": {},
   "outputs": [
    {
     "name": "stdout",
     "output_type": "stream",
     "text": [
      "   a  b  c\n",
      "0  1  4  7\n",
      "1  2  5  8\n",
      "2  3  6  9\n",
      "\n",
      "   a  b  c  total\n",
      "0  1  4  7     12\n",
      "1  2  5  8     15\n",
      "2  3  6  9     18\n"
     ]
    }
   ],
   "source": [
    "m = {\"a\":[1,2,3], \"b\":[4,5,6], \"c\":[7,8,9]}\n",
    "\n",
    "df1 = pd.DataFrame(m)\n",
    "print(df1)\n",
    "\n",
    "print()\n",
    "\n",
    "df1[\"total\"] = df1[\"a\"] + df1[\"b\"] + df1[\"c\"]\n",
    "print(df1)  "
   ]
  },
  {
   "cell_type": "markdown",
   "metadata": {},
   "source": [
    "### Other arithmetic operations"
   ]
  },
  {
   "cell_type": "code",
   "execution_count": 56,
   "metadata": {},
   "outputs": [
    {
     "name": "stdout",
     "output_type": "stream",
     "text": [
      "   a  b  c\n",
      "0  1  4  7\n",
      "1  2  5  8\n",
      "2  3  6  9\n",
      "\n",
      "Multiplication : \n",
      "   a  b  c  total\n",
      "0  1  4  7     28\n",
      "1  2  5  8     80\n",
      "2  3  6  9    162\n",
      "\n",
      "Subtraction : \n",
      "0   -10\n",
      "1   -11\n",
      "2   -12\n",
      "dtype: int64\n",
      "\n",
      "Division : \n",
      "0    0.035714\n",
      "1    0.050000\n",
      "2    0.055556\n",
      "dtype: float64\n"
     ]
    }
   ],
   "source": [
    "df1 = pd.DataFrame({\"a\":[1,2,3], \"b\":[4,5,6], \"c\":[7,8,9]})\n",
    "print(df1)\n",
    "\n",
    "print()\n",
    "\n",
    "# Multiplication \n",
    "print(\"Multiplication : \")\n",
    "df1[\"total\"] = df1[\"a\"] * df1[\"b\"] * df1[\"c\"]\n",
    "print(df1) \n",
    "\n",
    "print()\n",
    "\n",
    "# Subtraction \n",
    "print(\"Subtraction : \")\n",
    "df2 = df1[\"total\"] = df1[\"a\"] - df1[\"b\"] - df1[\"c\"]\n",
    "print(df2) \n",
    "\n",
    "print()\n",
    "\n",
    "# Division \n",
    "print(\"Division : \")\n",
    "df3 = df1[\"total\"] = df1[\"a\"] / df1[\"b\"] / df1[\"c\"]\n",
    "print(df3)"
   ]
  },
  {
   "cell_type": "markdown",
   "metadata": {},
   "source": [
    "### Insert Data "
   ]
  },
  {
   "cell_type": "code",
   "execution_count": 57,
   "metadata": {},
   "outputs": [
    {
     "name": "stdout",
     "output_type": "stream",
     "text": [
      "   A  B\n",
      "0  1  4\n",
      "1  2  5\n",
      "2  3  6\n",
      "\n"
     ]
    },
    {
     "data": {
      "text/html": [
       "<div>\n",
       "<style scoped>\n",
       "    .dataframe tbody tr th:only-of-type {\n",
       "        vertical-align: middle;\n",
       "    }\n",
       "\n",
       "    .dataframe tbody tr th {\n",
       "        vertical-align: top;\n",
       "    }\n",
       "\n",
       "    .dataframe thead th {\n",
       "        text-align: right;\n",
       "    }\n",
       "</style>\n",
       "<table border=\"1\" class=\"dataframe\">\n",
       "  <thead>\n",
       "    <tr style=\"text-align: right;\">\n",
       "      <th></th>\n",
       "      <th>A</th>\n",
       "      <th>B</th>\n",
       "      <th>New</th>\n",
       "    </tr>\n",
       "  </thead>\n",
       "  <tbody>\n",
       "    <tr>\n",
       "      <th>0</th>\n",
       "      <td>1</td>\n",
       "      <td>4</td>\n",
       "      <td>13</td>\n",
       "    </tr>\n",
       "    <tr>\n",
       "      <th>1</th>\n",
       "      <td>2</td>\n",
       "      <td>5</td>\n",
       "      <td>14</td>\n",
       "    </tr>\n",
       "    <tr>\n",
       "      <th>2</th>\n",
       "      <td>3</td>\n",
       "      <td>6</td>\n",
       "      <td>15</td>\n",
       "    </tr>\n",
       "  </tbody>\n",
       "</table>\n",
       "</div>"
      ],
      "text/plain": [
       "   A  B  New\n",
       "0  1  4   13\n",
       "1  2  5   14\n",
       "2  3  6   15"
      ]
     },
     "execution_count": 57,
     "metadata": {},
     "output_type": "execute_result"
    }
   ],
   "source": [
    "var = pd.DataFrame({\"A\":[1,2,3], \"B\":[4,5,6]})\n",
    "print(var)\n",
    "\n",
    "print() \n",
    "\n",
    "var.insert(2, \"New\", [13,14,15])\n",
    "var"
   ]
  },
  {
   "cell_type": "markdown",
   "metadata": {},
   "source": [
    "### Delete Data "
   ]
  },
  {
   "cell_type": "code",
   "execution_count": 58,
   "metadata": {},
   "outputs": [
    {
     "name": "stdout",
     "output_type": "stream",
     "text": [
      "   A  B  New\n",
      "0  1  4   13\n",
      "1  2  5   14\n",
      "2  3  6   15\n",
      "\n"
     ]
    },
    {
     "data": {
      "text/html": [
       "<div>\n",
       "<style scoped>\n",
       "    .dataframe tbody tr th:only-of-type {\n",
       "        vertical-align: middle;\n",
       "    }\n",
       "\n",
       "    .dataframe tbody tr th {\n",
       "        vertical-align: top;\n",
       "    }\n",
       "\n",
       "    .dataframe thead th {\n",
       "        text-align: right;\n",
       "    }\n",
       "</style>\n",
       "<table border=\"1\" class=\"dataframe\">\n",
       "  <thead>\n",
       "    <tr style=\"text-align: right;\">\n",
       "      <th></th>\n",
       "      <th>A</th>\n",
       "      <th>New</th>\n",
       "    </tr>\n",
       "  </thead>\n",
       "  <tbody>\n",
       "    <tr>\n",
       "      <th>0</th>\n",
       "      <td>1</td>\n",
       "      <td>13</td>\n",
       "    </tr>\n",
       "    <tr>\n",
       "      <th>1</th>\n",
       "      <td>2</td>\n",
       "      <td>14</td>\n",
       "    </tr>\n",
       "    <tr>\n",
       "      <th>2</th>\n",
       "      <td>3</td>\n",
       "      <td>15</td>\n",
       "    </tr>\n",
       "  </tbody>\n",
       "</table>\n",
       "</div>"
      ],
      "text/plain": [
       "   A  New\n",
       "0  1   13\n",
       "1  2   14\n",
       "2  3   15"
      ]
     },
     "execution_count": 58,
     "metadata": {},
     "output_type": "execute_result"
    }
   ],
   "source": [
    "var = pd.DataFrame({\"A\":[1,2,3], \"B\":[4,5,6], \"New\":[13,14,15]})\n",
    "print(var)\n",
    "\n",
    "print()\n",
    "\n",
    "var.pop(\"B\")\n",
    "var"
   ]
  },
  {
   "cell_type": "code",
   "execution_count": null,
   "metadata": {},
   "outputs": [],
   "source": []
  }
 ],
 "metadata": {
  "kernelspec": {
   "display_name": "Python 3",
   "language": "python",
   "name": "python3"
  },
  "language_info": {
   "codemirror_mode": {
    "name": "ipython",
    "version": 3
   },
   "file_extension": ".py",
   "mimetype": "text/x-python",
   "name": "python",
   "nbconvert_exporter": "python",
   "pygments_lexer": "ipython3",
   "version": "3.12.1"
  }
 },
 "nbformat": 4,
 "nbformat_minor": 2
}
